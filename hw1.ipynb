{
  "nbformat": 4,
  "nbformat_minor": 0,
  "metadata": {
    "colab": {
      "provenance": []
    },
    "kernelspec": {
      "name": "python3",
      "display_name": "Python 3"
    },
    "language_info": {
      "name": "python"
    }
  },
  "cells": [
    {
      "cell_type": "code",
      "execution_count": null,
      "metadata": {
        "id": "qEfWwrcdFSUt"
      },
      "outputs": [],
      "source": []
    },
    {
      "cell_type": "markdown",
      "source": [
        "9.1 Base N and Binary"
      ],
      "metadata": {
        "id": "suBY-A5qGpj7"
      }
    },
    {
      "cell_type": "code",
      "source": [
        "bin(66) #converts 66 to binary"
      ],
      "metadata": {
        "colab": {
          "base_uri": "https://localhost:8080/",
          "height": 35
        },
        "id": "akeOxWc9I7Xf",
        "outputId": "c6ec1beb-35b0-4eb6-fdbd-818156b59ceb"
      },
      "execution_count": null,
      "outputs": [
        {
          "output_type": "execute_result",
          "data": {
            "text/plain": [
              "'0b1000010'"
            ],
            "application/vnd.google.colaboratory.intrinsic+json": {
              "type": "string"
            }
          },
          "metadata": {},
          "execution_count": 1
        }
      ]
    },
    {
      "cell_type": "markdown",
      "source": [
        "Some addition and multiplication in binary"
      ],
      "metadata": {
        "id": "L9GLFVKuLE5x"
      }
    },
    {
      "cell_type": "code",
      "source": [
        "#Addition\n",
        "bin(22) #converts 22 to binary\n",
        "bin(44) #converts 44 to binary\n",
        "x=0b10110 #variable x set to 22 in base 2\n",
        "y=0b101100 #variable y set to 66 in base 2\n",
        "z=x+y\n",
        "print(f\"{z:b}\") #prints z in binary\n",
        "print(z) #prints z in base 10"
      ],
      "metadata": {
        "colab": {
          "base_uri": "https://localhost:8080/"
        },
        "id": "1Ijk80dpLeFg",
        "outputId": "448b1dbe-f1c6-4da3-90b8-209318940ab6"
      },
      "execution_count": null,
      "outputs": [
        {
          "output_type": "stream",
          "name": "stdout",
          "text": [
            "1000010\n",
            "66\n"
          ]
        }
      ]
    },
    {
      "cell_type": "code",
      "source": [
        "#Multiplication\n",
        "bin(22) #converts 22 to binary\n",
        "bin(44) #converts 44 to binary\n",
        "x=0b10110 #variable x set to 22 in base 2\n",
        "y=0b101100 #variable y set to 66 in base 2\n",
        "z=x*y\n",
        "print(f\"{z:b}\") #prints z in binary\n",
        "print(z) #prints z in base 10"
      ],
      "metadata": {
        "colab": {
          "base_uri": "https://localhost:8080/"
        },
        "id": "RkLiZwI2QiyF",
        "outputId": "c51aa539-3529-42ff-b63c-2103ea6ca5c2"
      },
      "execution_count": null,
      "outputs": [
        {
          "output_type": "stream",
          "name": "stdout",
          "text": [
            "1111001000\n",
            "968\n"
          ]
        }
      ]
    },
    {
      "cell_type": "markdown",
      "source": [
        "9.2 Floating Point Numbers"
      ],
      "metadata": {
        "id": "A1SsjK--Qtlz"
      }
    },
    {
      "cell_type": "code",
      "source": [
        "import numpy as np\n",
        "np.spacing(1e9) #gives gap at 1e8\n"
      ],
      "metadata": {
        "colab": {
          "base_uri": "https://localhost:8080/"
        },
        "id": "n3rcebxHWjLz",
        "outputId": "4d8a148f-cebe-4bb6-8b9d-0a7e9947a9e3"
      },
      "execution_count": null,
      "outputs": [
        {
          "output_type": "execute_result",
          "data": {
            "text/plain": [
              "1.1920928955078125e-07"
            ]
          },
          "metadata": {},
          "execution_count": 5
        }
      ]
    },
    {
      "cell_type": "code",
      "source": [
        "1e8 == (1e8 + np.spacing(1e8)/3) #verify that adding less than half the gap will result in the same number"
      ],
      "metadata": {
        "colab": {
          "base_uri": "https://localhost:8080/"
        },
        "id": "KO0vi_tqW3Nf",
        "outputId": "a5fcea55-ef17-4910-8b26-44d5971cb127"
      },
      "execution_count": null,
      "outputs": [
        {
          "output_type": "execute_result",
          "data": {
            "text/plain": [
              "True"
            ]
          },
          "metadata": {},
          "execution_count": 6
        }
      ]
    },
    {
      "cell_type": "markdown",
      "source": [
        "Code for floats"
      ],
      "metadata": {
        "id": "SYkpAFSeYV6Q"
      }
    },
    {
      "cell_type": "code",
      "source": [
        "import sys\n",
        "sys.float_info"
      ],
      "metadata": {
        "colab": {
          "base_uri": "https://localhost:8080/"
        },
        "id": "eUjPW8p-YkLH",
        "outputId": "2d95c336-c0db-475c-dc42-519cadd341de"
      },
      "execution_count": null,
      "outputs": [
        {
          "output_type": "execute_result",
          "data": {
            "text/plain": [
              "sys.float_info(max=1.7976931348623157e+308, max_exp=1024, max_10_exp=308, min=2.2250738585072014e-308, min_exp=-1021, min_10_exp=-307, dig=15, mant_dig=53, epsilon=2.220446049250313e-16, radix=2, rounds=1)"
            ]
          },
          "metadata": {},
          "execution_count": 7
        }
      ]
    },
    {
      "cell_type": "markdown",
      "source": [
        "Overflow:"
      ],
      "metadata": {
        "id": "zeCJitjdYoL0"
      }
    },
    {
      "cell_type": "code",
      "source": [
        "print(1.6e308)\n",
        "#anything greater than 1.8*10^308 results in 'inf'\n",
        "print(1.8e308)"
      ],
      "metadata": {
        "colab": {
          "base_uri": "https://localhost:8080/"
        },
        "id": "eXCyOpfoYrq_",
        "outputId": "92b9bbb8-68fc-49dd-fe38-8c0f757ecb00"
      },
      "execution_count": null,
      "outputs": [
        {
          "output_type": "stream",
          "name": "stdout",
          "text": [
            "1.6e+308\n",
            "inf\n"
          ]
        }
      ]
    },
    {
      "cell_type": "markdown",
      "source": [
        "Underflow:"
      ],
      "metadata": {
        "id": "U3epNKigYzWT"
      }
    },
    {
      "cell_type": "code",
      "source": [
        "print(2**-1074) #lower limit befor underflow\n",
        "2**-1075 #number will result in '0.0'"
      ],
      "metadata": {
        "colab": {
          "base_uri": "https://localhost:8080/"
        },
        "id": "NJDd04DgY0zF",
        "outputId": "71383646-a1de-4134-cceb-35f545a0af50"
      },
      "execution_count": null,
      "outputs": [
        {
          "output_type": "stream",
          "name": "stdout",
          "text": [
            "5e-324\n"
          ]
        },
        {
          "output_type": "execute_result",
          "data": {
            "text/plain": [
              "0.0"
            ]
          },
          "metadata": {},
          "execution_count": 9
        }
      ]
    },
    {
      "cell_type": "markdown",
      "source": [
        "9.3 Round-off Errors"
      ],
      "metadata": {
        "id": "G4gTEMViZSbU"
      }
    },
    {
      "cell_type": "code",
      "source": [
        "0.05==1.55-1.5 #compares the values to show roundoff"
      ],
      "metadata": {
        "colab": {
          "base_uri": "https://localhost:8080/"
        },
        "id": "39kK-mvJZZ_M",
        "outputId": "91d7f907-3646-4c7f-af0e-792681193f55"
      },
      "execution_count": null,
      "outputs": [
        {
          "output_type": "execute_result",
          "data": {
            "text/plain": [
              "False"
            ]
          },
          "metadata": {},
          "execution_count": 10
        }
      ]
    },
    {
      "cell_type": "code",
      "source": [
        "1.55-1.5 #python calculated"
      ],
      "metadata": {
        "colab": {
          "base_uri": "https://localhost:8080/"
        },
        "id": "c0eglGduZhBT",
        "outputId": "d01cf51d-ecf7-476a-8c84-e3a4a38d8028"
      },
      "execution_count": null,
      "outputs": [
        {
          "output_type": "execute_result",
          "data": {
            "text/plain": [
              "0.050000000000000044"
            ]
          },
          "metadata": {},
          "execution_count": 11
        }
      ]
    },
    {
      "cell_type": "code",
      "source": [
        "round(1.55-1.5,1)==round(.05,1) #rounding function makes previous equaiton true"
      ],
      "metadata": {
        "colab": {
          "base_uri": "https://localhost:8080/"
        },
        "id": "FzWDAbmmaPVs",
        "outputId": "e5b77e6c-8c19-43b0-8777-ebcf4dd3ee62"
      },
      "execution_count": null,
      "outputs": [
        {
          "output_type": "execute_result",
          "data": {
            "text/plain": [
              "True"
            ]
          },
          "metadata": {},
          "execution_count": 12
        }
      ]
    },
    {
      "cell_type": "markdown",
      "source": [
        "We can show accumulation of roundoff through repetition of adding and subtracting the same value. For this we will use the equaiton \"1+ 3/5 - 3/5\""
      ],
      "metadata": {
        "id": "-akog1E2am1j"
      }
    },
    {
      "cell_type": "code",
      "source": [
        "1+3/5-3/5"
      ],
      "metadata": {
        "colab": {
          "base_uri": "https://localhost:8080/"
        },
        "id": "fASY6tCgauvi",
        "outputId": "597cb3de-dd1e-4724-e2ec-1075bb0aa911"
      },
      "execution_count": null,
      "outputs": [
        {
          "output_type": "execute_result",
          "data": {
            "text/plain": [
              "1.0"
            ]
          },
          "metadata": {},
          "execution_count": 13
        }
      ]
    },
    {
      "cell_type": "code",
      "source": [
        "result = 1\n",
        "for i in range(1000): #loop for adding 3/5 for 1000 iterations\n",
        "    result += (3/5)\n",
        "\n",
        "for i in range(1000): #loop for subtracting 3/5 for 1000 iterations\n",
        "    result -= (3/5)\n",
        "print(result)"
      ],
      "metadata": {
        "colab": {
          "base_uri": "https://localhost:8080/"
        },
        "id": "NU9ejPO7a1m1",
        "outputId": "721fdea2-cad2-4417-a748-265be083b291"
      },
      "execution_count": null,
      "outputs": [
        {
          "output_type": "stream",
          "name": "stdout",
          "text": [
            "1.000000000000035\n"
          ]
        }
      ]
    }
  ]
}