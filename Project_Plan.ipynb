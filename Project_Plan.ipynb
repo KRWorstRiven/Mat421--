{
  "nbformat": 4,
  "nbformat_minor": 0,
  "metadata": {
    "colab": {
      "provenance": [],
      "authorship_tag": "ABX9TyPHwX2Q4N9mrPo75G55Vodp",
      "include_colab_link": true
    },
    "kernelspec": {
      "name": "python3",
      "display_name": "Python 3"
    },
    "language_info": {
      "name": "python"
    }
  },
  "cells": [
    {
      "cell_type": "markdown",
      "metadata": {
        "id": "view-in-github",
        "colab_type": "text"
      },
      "source": [
        "<a href=\"https://colab.research.google.com/github/KRWorstRiven/Mat421--/blob/main/Project_Plan.ipynb\" target=\"_parent\"><img src=\"https://colab.research.google.com/assets/colab-badge.svg\" alt=\"Open In Colab\"/></a>"
      ]
    },
    {
      "cell_type": "markdown",
      "source": [
        "# Student Performance vs. Study Hours – Regression Analysis\n",
        "\n",
        "---\n",
        "\n",
        "## A. Research Objective\n",
        "\n",
        "The objective of this research is to examine the linear relationship between the number of hours students dedicate to studying and their academic performance. By using regression analysis, the study aims to determine whether increased study time significantly predicts higher exam scores. This is significant for educators and policymakers aiming to understand how study habits affect learning outcomes.\n",
        "\n",
        "---\n",
        "\n",
        "## B. Literature Review\n",
        "\n",
        "Previous studies have consistently shown that time spent studying can positively impact academic performance. However, other variables—such as socio-economic background, school quality, and student motivation—may also influence outcomes.\n",
        "\n",
        "- Studies using the **UCI dataset** have explored the relationship between various lifestyle factors (like alcohol consumption and study time) and grades.  \n",
        "- The **Kaggle dataset** highlights gender, parental education, and test preparation as performance influencers.\n",
        "\n",
        "This project fills the gap by isolating **study time** as the main predictor and quantifying its impact using **simple linear regression**.\n",
        "\n",
        "---\n",
        "\n",
        "## C. Hypothesis / Research Questions\n",
        "\n",
        "**Hypothesis:**  \n",
        "There is a positive linear relationship between study hours and student exam scores.\n",
        "\n",
        "**Research Question:**  \n",
        "Does increased study time lead to higher student performance in exams?\n",
        "\n",
        "---\n",
        "\n",
        "## D. Methodology\n",
        "\n",
        "**Tools:**  \n",
        "Python (with Scikit-learn, Pandas, Matplotlib, and Seaborn).\n",
        "\n",
        "**Techniques:**  \n",
        "Simple Linear Regression will be used to model the relationship between study hours (independent variable) and exam scores (dependent variable).\n",
        "\n",
        "**Process:**\n",
        "1. Load and clean data.\n",
        "2. Visualize data to check for trends and outliers.\n",
        "3. Fit a linear regression model.\n",
        "4. Evaluate model performance using R² and RMSE.\n",
        "\n",
        "---\n",
        "\n",
        "## E. Data Collection\n",
        "\n",
        "**Dataset 1:**  \n",
        "**UCI Student Performance Dataset**  \n",
        "[https://archive.ics.uci.edu/ml/datasets/Student+Performance](https://archive.ics.uci.edu/ml/datasets/Student+Performance)  \n",
        "Includes variables like study time (categorical), absences, and grades.\n",
        "\n",
        "**Dataset 2:**  \n",
        "**Kaggle – Student Performance in Exams**  \n",
        "[https://www.kaggle.com/datasets/spscientist/students-performance-in-exams](https://www.kaggle.com/datasets/spscientist/students-performance-in-exams)  \n",
        "Includes math, reading, and writing scores along with demographic data.\n",
        "\n",
        "**Preprocessing Steps:**\n",
        "- Convert categorical study time into numerical values (UCI).\n",
        "- Use total average score as the performance metric (Kaggle).\n",
        "- Normalize and clean data before regression analysis.\n",
        "\n",
        "---\n",
        "\n",
        "## F. Analysis Plan\n",
        "\n",
        "**Approach:**\n",
        "- Perform exploratory data analysis (EDA).\n",
        "- Plot scatterplots and correlation matrices.\n",
        "- Apply simple linear regression to predict exam scores from study hours.\n",
        "\n",
        "**Statistical Tools:**\n",
        "- `LinearRegression()` from Scikit-learn.\n",
        "- Evaluation metrics: R² Score, Mean Squared Error (MSE), Root Mean Squared Error (RMSE).\n",
        "\n",
        "---\n",
        "\n",
        "## G. Team Roles and Responsibilities\n",
        "\n",
        "- I will be doing the whole project by myself. I am willing to find a group member, but there doesn’t seem to be anyone looking for groups on slack nor are there any groups in Canvas\n",
        "\n"
      ],
      "metadata": {
        "id": "9v-pFbq-tDnX"
      }
    }
  ]
}